{
 "cells": [
  {
   "cell_type": "markdown",
   "metadata": {},
   "source": [
    "# New York City taxi"
   ]
  },
  {
   "cell_type": "markdown",
   "metadata": {},
   "source": [
    "The goal of this challenge is to get useful insights from data containing information about taxi rides in New York. To do so, you have three source files:\n",
    "\n",
    "* `new_york_taxi.csv` which contains information about individual taxi rides.\n",
    "* `data_dictionary_trip_records_yellow.pdf` which contains information about the columns in `new_york_taxi.csv`.\n",
    "* `taxi_zones.csv` which contains some geographical information about different taxi zones.\n",
    "\n",
    "Try to imagine your are a taxi driver who wishes to use this data to maximize his gains and/or quality of life. We do not ask specific questions to solve, as this challenges also wishes to see if you can come up with relevant business/research questions yourself. We will score on 3 facets:\n",
    "\n",
    "* Correct assesment of the problem. Come up with relevant questions, given the business setting and available data. Evaluate your data quality!\n",
    "* Technical implementation. This in terms of how adequate the used data techniques are and if they are implemented correctly.\n",
    "* Translation of technical results into actions and/or business results.\n",
    "\n",
    "Good luck!"
   ]
  },
  {
   "cell_type": "code",
   "execution_count": null,
   "metadata": {},
   "outputs": [],
   "source": []
  },
  {
   "cell_type": "code",
   "execution_count": null,
   "metadata": {},
   "outputs": [],
   "source": []
  },
  {
   "cell_type": "code",
   "execution_count": null,
   "metadata": {},
   "outputs": [],
   "source": []
  }
 ],
 "metadata": {
  "kernelspec": {
   "display_name": "Python 3",
   "language": "python",
   "name": "python3"
  },
  "language_info": {
   "codemirror_mode": {
    "name": "ipython",
    "version": 3
   },
   "file_extension": ".py",
   "mimetype": "text/x-python",
   "name": "python",
   "nbconvert_exporter": "python",
   "pygments_lexer": "ipython3",
   "version": "3.7.3"
  }
 },
 "nbformat": 4,
 "nbformat_minor": 2
}
