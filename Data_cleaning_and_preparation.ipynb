{
 "cells": [
  {
   "cell_type": "code",
   "execution_count": 1,
   "metadata": {},
   "outputs": [],
   "source": [
    "import pandas as pd\n",
    "import numpy as np\n",
    "from datetime import datetime as dt\n",
    "import matplotlib.pyplot as plt\n",
    "\n",
    "from IPython.core.interactiveshell import InteractiveShell\n",
    "InteractiveShell.ast_node_interactivity = \"all\""
   ]
  },
  {
   "cell_type": "code",
   "execution_count": 2,
   "metadata": {},
   "outputs": [],
   "source": [
    "#READ IN THE DATA\n",
    "filepath = \"/users/Louis/Documents/Jupyter Notebook/Taxi_challenge/\"\n",
    "\n",
    "taxi_rides = pd.read_csv(filepath + 'Opgave/new_york_taxi.csv')\n",
    "taxi_zones = pd.read_csv(filepath + 'Opgave/taxi_zones.csv')"
   ]
  },
  {
   "cell_type": "code",
   "execution_count": 3,
   "metadata": {},
   "outputs": [
    {
     "name": "stdout",
     "output_type": "stream",
     "text": [
      "<class 'pandas.core.frame.DataFrame'>\n",
      "RangeIndex: 742262 entries, 0 to 742261\n",
      "Data columns (total 16 columns):\n",
      "VendorID                 742262 non-null int64\n",
      "tpep_pickup_datetime     742262 non-null object\n",
      "tpep_dropoff_datetime    742262 non-null object\n",
      "passenger_count          742262 non-null int64\n",
      "trip_distance            742262 non-null float64\n",
      "RatecodeID               742262 non-null int64\n",
      "PULocationID             742262 non-null int64\n",
      "DOLocationID             742262 non-null int64\n",
      "payment_type             742262 non-null int64\n",
      "fare_amount              742262 non-null float64\n",
      "extra                    742262 non-null float64\n",
      "mta_tax                  742262 non-null float64\n",
      "tip_amount               742262 non-null float64\n",
      "tolls_amount             742262 non-null float64\n",
      "improvement_surcharge    742262 non-null float64\n",
      "total_amount             742262 non-null float64\n",
      "dtypes: float64(8), int64(6), object(2)\n",
      "memory usage: 90.6+ MB\n"
     ]
    },
    {
     "data": {
      "text/plain": [
       "VendorID                 0\n",
       "tpep_pickup_datetime     0\n",
       "tpep_dropoff_datetime    0\n",
       "passenger_count          0\n",
       "trip_distance            0\n",
       "RatecodeID               0\n",
       "PULocationID             0\n",
       "DOLocationID             0\n",
       "payment_type             0\n",
       "fare_amount              0\n",
       "extra                    0\n",
       "mta_tax                  0\n",
       "tip_amount               0\n",
       "tolls_amount             0\n",
       "improvement_surcharge    0\n",
       "total_amount             0\n",
       "dtype: int64"
      ]
     },
     "execution_count": 3,
     "metadata": {},
     "output_type": "execute_result"
    }
   ],
   "source": [
    "#General understanding of the data\n",
    "taxi_rides.info()\n",
    "taxi_rides.isna().sum()\n",
    "\n",
    "#742k rides\n",
    "#no na's, Hurray!"
   ]
  },
  {
   "cell_type": "code",
   "execution_count": 4,
   "metadata": {},
   "outputs": [
    {
     "data": {
      "text/plain": [
       "VendorID                             1\n",
       "tpep_pickup_datetime     01-01-18 0:00\n",
       "tpep_dropoff_datetime    01-01-18 0:00\n",
       "passenger_count                      0\n",
       "trip_distance                        0\n",
       "RatecodeID                           1\n",
       "PULocationID                         1\n",
       "DOLocationID                         1\n",
       "payment_type                         1\n",
       "fare_amount                       -198\n",
       "extra                             -4.5\n",
       "mta_tax                           -0.5\n",
       "tip_amount                          -1\n",
       "tolls_amount                     -10.5\n",
       "improvement_surcharge             -0.3\n",
       "total_amount                    -209.3\n",
       "dtype: object"
      ]
     },
     "execution_count": 4,
     "metadata": {},
     "output_type": "execute_result"
    }
   ],
   "source": [
    "#Check if there are negative values\n",
    "taxi_rides.min()"
   ]
  },
  {
   "cell_type": "code",
   "execution_count": 5,
   "metadata": {},
   "outputs": [
    {
     "data": {
      "text/plain": [
       "Int64Index([    58,     59,    830,    831,   3834,   3835,   4054,   4055,\n",
       "              4210,   4211,\n",
       "            ...\n",
       "            735662, 735663, 737058, 737059, 741430, 741431, 741568, 741569,\n",
       "            741871, 741872],\n",
       "           dtype='int64', length=820)"
      ]
     },
     "execution_count": 5,
     "metadata": {},
     "output_type": "execute_result"
    },
    {
     "data": {
      "text/plain": [
       "820"
      ]
     },
     "execution_count": 5,
     "metadata": {},
     "output_type": "execute_result"
    }
   ],
   "source": [
    "#Taxi drivers erase trips (because of disputes etc.) by adding the a new trip with the negative cost\n",
    "negative_trips = taxi_rides[(taxi_rides['fare_amount'] < 0)].index\n",
    "initial_trips = negative_trips + 1\n",
    "deleted_trips = initial_trips.append(negative_trips)\n",
    "deleted_trips.sort_values()\n",
    "\n",
    "#Drop negative values and 0's\n",
    "taxi_rides.drop(deleted_trips , inplace=True)\n",
    "len(deleted_trips)"
   ]
  },
  {
   "cell_type": "code",
   "execution_count": 6,
   "metadata": {},
   "outputs": [
    {
     "data": {
      "text/plain": [
       "114"
      ]
     },
     "execution_count": 6,
     "metadata": {},
     "output_type": "execute_result"
    },
    {
     "data": {
      "text/html": [
       "<div>\n",
       "<style scoped>\n",
       "    .dataframe tbody tr th:only-of-type {\n",
       "        vertical-align: middle;\n",
       "    }\n",
       "\n",
       "    .dataframe tbody tr th {\n",
       "        vertical-align: top;\n",
       "    }\n",
       "\n",
       "    .dataframe thead th {\n",
       "        text-align: right;\n",
       "    }\n",
       "</style>\n",
       "<table border=\"1\" class=\"dataframe\">\n",
       "  <thead>\n",
       "    <tr style=\"text-align: right;\">\n",
       "      <th></th>\n",
       "      <th>VendorID</th>\n",
       "      <th>tpep_pickup_datetime</th>\n",
       "      <th>tpep_dropoff_datetime</th>\n",
       "      <th>passenger_count</th>\n",
       "      <th>trip_distance</th>\n",
       "      <th>RatecodeID</th>\n",
       "      <th>PULocationID</th>\n",
       "      <th>DOLocationID</th>\n",
       "      <th>payment_type</th>\n",
       "      <th>fare_amount</th>\n",
       "      <th>extra</th>\n",
       "      <th>mta_tax</th>\n",
       "      <th>tip_amount</th>\n",
       "      <th>tolls_amount</th>\n",
       "      <th>improvement_surcharge</th>\n",
       "      <th>total_amount</th>\n",
       "    </tr>\n",
       "  </thead>\n",
       "  <tbody>\n",
       "    <tr>\n",
       "      <th>41838</th>\n",
       "      <td>1</td>\n",
       "      <td>01-01-18 2:39</td>\n",
       "      <td>01-01-18 2:47</td>\n",
       "      <td>1</td>\n",
       "      <td>1.9</td>\n",
       "      <td>1</td>\n",
       "      <td>181</td>\n",
       "      <td>188</td>\n",
       "      <td>1</td>\n",
       "      <td>8.5</td>\n",
       "      <td>-0.4</td>\n",
       "      <td>0.5</td>\n",
       "      <td>0.0</td>\n",
       "      <td>0.0</td>\n",
       "      <td>0.3</td>\n",
       "      <td>8.9</td>\n",
       "    </tr>\n",
       "  </tbody>\n",
       "</table>\n",
       "</div>"
      ],
      "text/plain": [
       "       VendorID tpep_pickup_datetime tpep_dropoff_datetime  passenger_count  \\\n",
       "41838         1        01-01-18 2:39         01-01-18 2:47                1   \n",
       "\n",
       "       trip_distance  RatecodeID  PULocationID  DOLocationID  payment_type  \\\n",
       "41838            1.9           1           181           188             1   \n",
       "\n",
       "       fare_amount  extra  mta_tax  tip_amount  tolls_amount  \\\n",
       "41838          8.5   -0.4      0.5         0.0           0.0   \n",
       "\n",
       "       improvement_surcharge  total_amount  \n",
       "41838                    0.3           8.9  "
      ]
     },
     "execution_count": 6,
     "metadata": {},
     "output_type": "execute_result"
    }
   ],
   "source": [
    "#select total amounts equal to 0\n",
    "indexNames = taxi_rides[taxi_rides['total_amount'] == 0].index\n",
    "\n",
    " \n",
    "#Drop 0's\n",
    "taxi_rides.drop(indexNames , inplace=True)\n",
    "len(indexNames)\n",
    "\n",
    "#Change the only remaining negative value into 0\n",
    "taxi_rides[taxi_rides['extra']==-0.4]\n",
    "taxi_rides.at[41838,'extra'] = 0"
   ]
  },
  {
   "cell_type": "code",
   "execution_count": 7,
   "metadata": {},
   "outputs": [
    {
     "data": {
      "text/plain": [
       "1    458761\n",
       "2    277528\n",
       "3      4005\n",
       "4      1034\n",
       "Name: payment_type, dtype: int64"
      ]
     },
     "execution_count": 7,
     "metadata": {},
     "output_type": "execute_result"
    },
    {
     "data": {
      "text/plain": [
       "5039"
      ]
     },
     "execution_count": 7,
     "metadata": {},
     "output_type": "execute_result"
    }
   ],
   "source": [
    "#Table different payment types \n",
    "taxi_rides.payment_type.value_counts()\n",
    "\n",
    "#Drop the 'No charge' and 'Dispute' payment types, this small amount of datapoints doesn't bring value to our analysis\n",
    "indexNames = taxi_rides[(taxi_rides['payment_type'] == 3) | \n",
    "                        (taxi_rides['payment_type'] == 4)  \n",
    "                        ].index\n",
    "taxi_rides.drop(indexNames , inplace=True)\n",
    "len(indexNames)"
   ]
  },
  {
   "cell_type": "code",
   "execution_count": 8,
   "metadata": {},
   "outputs": [
    {
     "data": {
      "text/plain": [
       "array([1, 2, 3, 5, 4, 6, 0, 7, 8, 9], dtype=int64)"
      ]
     },
     "execution_count": 8,
     "metadata": {},
     "output_type": "execute_result"
    },
    {
     "data": {
      "text/plain": [
       "1    510302\n",
       "2    114224\n",
       "5     35265\n",
       "3     33367\n",
       "6     21365\n",
       "4     17661\n",
       "0      4095\n",
       "7         7\n",
       "9         2\n",
       "8         1\n",
       "Name: passenger_count, dtype: int64"
      ]
     },
     "execution_count": 8,
     "metadata": {},
     "output_type": "execute_result"
    }
   ],
   "source": [
    "#Check if there's any weird passengers counts\n",
    "taxi_rides['passenger_count'].unique()\n",
    "taxi_rides.passenger_count.value_counts()\n"
   ]
  },
  {
   "cell_type": "code",
   "execution_count": 9,
   "metadata": {},
   "outputs": [],
   "source": [
    "#Alter the rides with zero passengers to one\n",
    "taxi_rides.loc[taxi_rides['passenger_count']== 0, 'passenger_count'] = 1"
   ]
  },
  {
   "cell_type": "code",
   "execution_count": 10,
   "metadata": {},
   "outputs": [
    {
     "data": {
      "text/plain": [
       "4181"
      ]
     },
     "execution_count": 10,
     "metadata": {},
     "output_type": "execute_result"
    }
   ],
   "source": [
    "#Delete rides that did not register a distance\n",
    "indexNames = taxi_rides[(taxi_rides['trip_distance'] == 0)].index\n",
    "taxi_rides.drop(indexNames , inplace=True)\n",
    "len(indexNames)"
   ]
  },
  {
   "cell_type": "code",
   "execution_count": 11,
   "metadata": {},
   "outputs": [
    {
     "data": {
      "text/plain": [
       "1    708709\n",
       "2     19874\n",
       "3      1766\n",
       "5      1339\n",
       "4       419\n",
       "6         1\n",
       "Name: RatecodeID, dtype: int64"
      ]
     },
     "execution_count": 11,
     "metadata": {},
     "output_type": "execute_result"
    },
    {
     "data": {
      "text/plain": [
       "array([1, 2, 5, 4, 3, 6], dtype=int64)"
      ]
     },
     "execution_count": 11,
     "metadata": {},
     "output_type": "execute_result"
    }
   ],
   "source": [
    "#Check the RatecodeID distribution\n",
    "taxi_rides.RatecodeID.value_counts()\n",
    "taxi_rides['RatecodeID'].unique()"
   ]
  },
  {
   "cell_type": "code",
   "execution_count": 12,
   "metadata": {},
   "outputs": [],
   "source": [
    "#Zones 264 and 265 are used for rides starting or ending out of the region or possibly when there's a \n",
    "#problem with the geo-tracking of the taxi. The rows starting or ending in these regions are deleted\n",
    "#taxi_zones.iloc[263:265]\n",
    "taxi_zones = taxi_zones.iloc[0:263]"
   ]
  },
  {
   "cell_type": "code",
   "execution_count": 13,
   "metadata": {},
   "outputs": [
    {
     "data": {
      "text/plain": [
       "(714838, 26)"
      ]
     },
     "execution_count": 13,
     "metadata": {},
     "output_type": "execute_result"
    }
   ],
   "source": [
    "#Merge rides with zones and boroughs\n",
    "taxi_rides = taxi_rides.merge(taxi_zones, left_on='PULocationID', right_on='location_id', how='inner')\n",
    "taxi_rides = taxi_rides.rename(columns={\"borough\":\"PUborough\",\"zone\": \"PUzone\", \"service_zone\": \"PUservice_zone\"})\n",
    "taxi_rides = taxi_rides.merge(taxi_zones, left_on='DOLocationID', right_on='location_id', how='inner')\n",
    "taxi_rides = taxi_rides.rename(columns={\"borough\":\"DOborough\",\"zone\": \"DOzone\", \"service_zone\": \"DOservice_zone\"})\n",
    "taxi_rides.shape\n"
   ]
  },
  {
   "cell_type": "code",
   "execution_count": 14,
   "metadata": {},
   "outputs": [],
   "source": [
    "# Converting string into datetime and generating Pickup_hour and Dropoff_hour column\n",
    "\n",
    "taxi_rides['Pickup_dt'] = taxi_rides.tpep_pickup_datetime.apply(lambda x:dt.strptime(x,\"%d-%m-%y %H:%M\"))\n",
    "taxi_rides['Pickup_hour'] = taxi_rides.Pickup_dt.apply(lambda x:x.hour)\n",
    "taxi_rides['Pickup_day'] = taxi_rides.Pickup_dt.apply(lambda x:x.day)\n",
    "\n",
    "\n",
    "taxi_rides['Dropoff_dt'] = taxi_rides.tpep_dropoff_datetime.apply(lambda x:dt.strptime(x,\"%d-%m-%y %H:%M\"))\n",
    "taxi_rides['Dropoff_hour'] = taxi_rides.Dropoff_dt.apply(lambda x:x.hour)\n",
    "taxi_rides['Dropoff_day'] = taxi_rides.Dropoff_dt.apply(lambda x:x.day)"
   ]
  },
  {
   "cell_type": "code",
   "execution_count": 15,
   "metadata": {},
   "outputs": [],
   "source": [
    "#Engineering new variables  \n",
    "\n",
    "#Income (the amount that goes into the taxi driver's pocket)\n",
    "taxi_rides['income'] = taxi_rides['fare_amount'] + taxi_rides['extra'] + taxi_rides['tip_amount']\n",
    "\n",
    "# Get the difference between datetimes (in seconds)\n",
    "taxi_rides['trip_time'] = taxi_rides['Dropoff_dt'] - taxi_rides['Pickup_dt']\n",
    "taxi_rides['trip_time'] = taxi_rides['trip_time'] / np.timedelta64(1, 'h')\n",
    "\n",
    "#Mean driving speed (in mph)\n",
    "taxi_rides['speed'] = taxi_rides['trip_distance'] / (taxi_rides['trip_time'])\n",
    "\n",
    "#tip rate (%/100 of total bill)\n",
    "taxi_rides['tip_rate'] = taxi_rides['tip_amount'] / (taxi_rides['fare_amount'] + taxi_rides['extra'] + taxi_rides['mta_tax'] + taxi_rides['improvement_surcharge'] + taxi_rides['tolls_amount'])\n",
    "\n",
    "#trips to or from JFK or LaGuardia airport.\n",
    "taxi_rides.loc[(taxi_rides['PUzone'] == 'JFK Airport')|(taxi_rides['PUzone'] == 'LaGuardia Airport'),'airport'] = 'from'\n",
    "taxi_rides.loc[(taxi_rides['DOzone'] == 'JFK Airport')|(taxi_rides['DOzone'] == 'LaGuardia Airport'),'airport'] = 'towards'\n",
    "taxi_rides['airport'] = taxi_rides['airport'].fillna('none')\n",
    "\n",
    "#dummy for trips between noon and midnight\n",
    "taxi_rides.loc[taxi_rides['Pickup_hour']>11,'pm'] = 1\n",
    "taxi_rides.loc[taxi_rides['Pickup_hour']<=11,'pm'] = 0\n",
    "\n",
    "#dummy for trips on new year's day\n",
    "taxi_rides.loc[taxi_rides['Pickup_day'] == 1,'new_year'] = 1\n",
    "taxi_rides.loc[taxi_rides['Pickup_day'] != 1,'new_year'] = 0"
   ]
  },
  {
   "cell_type": "code",
   "execution_count": 16,
   "metadata": {},
   "outputs": [
    {
     "data": {
      "text/html": [
       "<div>\n",
       "<style scoped>\n",
       "    .dataframe tbody tr th:only-of-type {\n",
       "        vertical-align: middle;\n",
       "    }\n",
       "\n",
       "    .dataframe tbody tr th {\n",
       "        vertical-align: top;\n",
       "    }\n",
       "\n",
       "    .dataframe thead th {\n",
       "        text-align: right;\n",
       "    }\n",
       "</style>\n",
       "<table border=\"1\" class=\"dataframe\">\n",
       "  <thead>\n",
       "    <tr style=\"text-align: right;\">\n",
       "      <th></th>\n",
       "      <th>Pickup_dt</th>\n",
       "      <th>Dropoff_dt</th>\n",
       "      <th>trip_time</th>\n",
       "      <th>income</th>\n",
       "      <th>trip_distance</th>\n",
       "      <th>speed</th>\n",
       "    </tr>\n",
       "  </thead>\n",
       "  <tbody>\n",
       "    <tr>\n",
       "      <th>6287</th>\n",
       "      <td>2018-01-01 06:58:00</td>\n",
       "      <td>2018-01-01 06:58:00</td>\n",
       "      <td>0.0</td>\n",
       "      <td>3.5</td>\n",
       "      <td>0.41</td>\n",
       "      <td>inf</td>\n",
       "    </tr>\n",
       "    <tr>\n",
       "      <th>6296</th>\n",
       "      <td>2018-01-01 09:31:00</td>\n",
       "      <td>2018-01-01 09:31:00</td>\n",
       "      <td>0.0</td>\n",
       "      <td>3.5</td>\n",
       "      <td>0.40</td>\n",
       "      <td>inf</td>\n",
       "    </tr>\n",
       "    <tr>\n",
       "      <th>7057</th>\n",
       "      <td>2018-01-01 09:20:00</td>\n",
       "      <td>2018-01-01 09:20:00</td>\n",
       "      <td>0.0</td>\n",
       "      <td>3.0</td>\n",
       "      <td>0.10</td>\n",
       "      <td>inf</td>\n",
       "    </tr>\n",
       "    <tr>\n",
       "      <th>7061</th>\n",
       "      <td>2018-01-01 11:03:00</td>\n",
       "      <td>2018-01-01 11:03:00</td>\n",
       "      <td>0.0</td>\n",
       "      <td>2.5</td>\n",
       "      <td>0.07</td>\n",
       "      <td>inf</td>\n",
       "    </tr>\n",
       "    <tr>\n",
       "      <th>7107</th>\n",
       "      <td>2018-01-01 20:38:00</td>\n",
       "      <td>2018-01-01 20:38:00</td>\n",
       "      <td>0.0</td>\n",
       "      <td>3.0</td>\n",
       "      <td>3.20</td>\n",
       "      <td>inf</td>\n",
       "    </tr>\n",
       "  </tbody>\n",
       "</table>\n",
       "</div>"
      ],
      "text/plain": [
       "               Pickup_dt          Dropoff_dt  trip_time  income  \\\n",
       "6287 2018-01-01 06:58:00 2018-01-01 06:58:00        0.0     3.5   \n",
       "6296 2018-01-01 09:31:00 2018-01-01 09:31:00        0.0     3.5   \n",
       "7057 2018-01-01 09:20:00 2018-01-01 09:20:00        0.0     3.0   \n",
       "7061 2018-01-01 11:03:00 2018-01-01 11:03:00        0.0     2.5   \n",
       "7107 2018-01-01 20:38:00 2018-01-01 20:38:00        0.0     3.0   \n",
       "\n",
       "      trip_distance  speed  \n",
       "6287           0.41    inf  \n",
       "6296           0.40    inf  \n",
       "7057           0.10    inf  \n",
       "7061           0.07    inf  \n",
       "7107           3.20    inf  "
      ]
     },
     "execution_count": 16,
     "metadata": {},
     "output_type": "execute_result"
    },
    {
     "data": {
      "text/plain": [
       "1075"
      ]
     },
     "execution_count": 16,
     "metadata": {},
     "output_type": "execute_result"
    }
   ],
   "source": [
    "#Remove rides with an infinite or unrealistical speed (trip_time is zero or close)\n",
    "x= taxi_rides[taxi_rides['speed']>100]\n",
    "x[['Pickup_dt','Dropoff_dt','trip_time','income','trip_distance','speed']].head()\n",
    "#Drop the rides with speed above 100 mph\n",
    "indexNames = taxi_rides[(taxi_rides['speed'] > 100)].index\n",
    "taxi_rides.drop(indexNames , inplace=True)\n",
    "len(indexNames)"
   ]
  },
  {
   "cell_type": "code",
   "execution_count": 17,
   "metadata": {},
   "outputs": [
    {
     "data": {
      "text/plain": [
       "count    713763.000000\n",
       "mean          0.260978\n",
       "std           1.117748\n",
       "min         -95.200000\n",
       "25%           0.100000\n",
       "50%           0.166667\n",
       "75%           0.266667\n",
       "max          24.000000\n",
       "Name: trip_time, dtype: float64"
      ]
     },
     "execution_count": 17,
     "metadata": {},
     "output_type": "execute_result"
    },
    {
     "data": {
      "text/plain": [
       "1"
      ]
     },
     "execution_count": 17,
     "metadata": {},
     "output_type": "execute_result"
    }
   ],
   "source": [
    "#Delete all rides with negative durations or zero\n",
    "taxi_rides['trip_time'].describe()\n",
    "indexNames = taxi_rides[taxi_rides['trip_time']<0].index\n",
    "taxi_rides.drop(indexNames , inplace=True)\n",
    "len(indexNames)"
   ]
  },
  {
   "cell_type": "code",
   "execution_count": 18,
   "metadata": {},
   "outputs": [
    {
     "data": {
      "text/plain": [
       "<matplotlib.collections.PathCollection at 0x273baeab7f0>"
      ]
     },
     "execution_count": 18,
     "metadata": {},
     "output_type": "execute_result"
    },
    {
     "data": {
      "image/png": "[encoded data removed]",
      "text/plain": [
       "<Figure size 432x288 with 1 Axes>"
      ]
     },
     "metadata": {
      "needs_background": "light"
     },
     "output_type": "display_data"
    },
    {
     "data": {
      "text/plain": [
       "<matplotlib.collections.PathCollection at 0x273bc9050b8>"
      ]
     },
     "execution_count": 18,
     "metadata": {},
     "output_type": "execute_result"
    },
    {
     "data": {
      "text/plain": [
       "Text(0, 0.5, 'Trip distance')"
      ]
     },
     "execution_count": 18,
     "metadata": {},
     "output_type": "execute_result"
    },
    {
     "data": {
      "text/plain": [
       "Text(0.5, 0, 'Trip time')"
      ]
     },
     "execution_count": 18,
     "metadata": {},
     "output_type": "execute_result"
    },
    {
     "data": {
      "image/png": "[encoded data removed]",
      "text/plain": [
       "<Figure size 432x288 with 1 Axes>"
      ]
     },
     "metadata": {
      "needs_background": "light"
     },
     "output_type": "display_data"
    }
   ],
   "source": [
    "#Long durations seem to be clustered around 23-24 hours and they don't tend to have a large distance or bill.\n",
    "#Something's wrong\n",
    "plt.scatter(taxi_rides['trip_time'], taxi_rides['income'])\n",
    "plt.show()\n",
    "plt.scatter(taxi_rides['trip_time'], taxi_rides['trip_distance'])\n",
    "plt.ylabel('Trip distance')\n",
    "plt.xlabel('Trip time')\n",
    "plt.show()"
   ]
  },
  {
   "cell_type": "code",
   "execution_count": 19,
   "metadata": {},
   "outputs": [
    {
     "data": {
      "text/plain": [
       "trip_time_bucket\n",
       "(0.0, 1.0]      709238\n",
       "(1.0, 2.0]        2795\n",
       "(2.0, 3.0]          42\n",
       "(3.0, 4.0]          11\n",
       "(4.0, 5.0]           4\n",
       "(5.0, 6.0]          10\n",
       "(6.0, 7.0]           7\n",
       "(7.0, 8.0]          12\n",
       "(8.0, 9.0]           9\n",
       "(9.0, 10.0]         15\n",
       "(10.0, 11.0]        11\n",
       "(11.0, 12.0]         8\n",
       "(12.0, 13.0]         6\n",
       "(13.0, 14.0]        10\n",
       "(14.0, 15.0]         8\n",
       "(15.0, 16.0]        10\n",
       "(16.0, 17.0]         8\n",
       "(17.0, 18.0]         4\n",
       "(18.0, 19.0]         6\n",
       "(19.0, 20.0]         6\n",
       "(20.0, 21.0]         7\n",
       "(21.0, 22.0]        11\n",
       "(22.0, 23.0]        69\n",
       "(23.0, 24.0]      1455\n",
       "dtype: int64"
      ]
     },
     "execution_count": 19,
     "metadata": {},
     "output_type": "execute_result"
    },
    {
     "data": {
      "image/png": "[encoded data removed]",
      "text/plain": [
       "<Figure size 432x288 with 1 Axes>"
      ]
     },
     "metadata": {
      "needs_background": "light"
     },
     "output_type": "display_data"
    }
   ],
   "source": [
    "#Bucket per hour\n",
    "bucket_array = np.linspace(0, 24, 25)\n",
    "taxi_rides['trip_time_bucket'] = pd.cut(taxi_rides['trip_time'], bucket_array)\n",
    "a = taxi_rides.groupby('trip_time_bucket').size()\n",
    "a\n",
    "plt = a.plot(kind='bar',title='amount of trips in time buckets frequency plot')"
   ]
  },
  {
   "cell_type": "code",
   "execution_count": 20,
   "metadata": {},
   "outputs": [
    {
     "data": {
      "text/plain": [
       "1687"
      ]
     },
     "execution_count": 20,
     "metadata": {},
     "output_type": "execute_result"
    }
   ],
   "source": [
    "#I assume that there must be something wrong with long trips lacking an increased distance or bill.\n",
    "#Therefore I delete all trips taking more than 3 hours\n",
    "indexNames = taxi_rides[taxi_rides['trip_time']>3].index\n",
    "taxi_rides.drop(indexNames , inplace=True)\n",
    "len(indexNames)"
   ]
  },
  {
   "cell_type": "code",
   "execution_count": 21,
   "metadata": {},
   "outputs": [
    {
     "data": {
      "text/plain": [
       "VendorID                                       1\n",
       "tpep_pickup_datetime               01-01-18 0:00\n",
       "tpep_dropoff_datetime              01-01-18 0:01\n",
       "passenger_count                                1\n",
       "trip_distance                               0.01\n",
       "RatecodeID                                     1\n",
       "PULocationID                                   1\n",
       "DOLocationID                                   1\n",
       "payment_type                                   1\n",
       "fare_amount                                    0\n",
       "extra                                          0\n",
       "mta_tax                                        0\n",
       "tip_amount                                     0\n",
       "tolls_amount                                   0\n",
       "improvement_surcharge                          0\n",
       "total_amount                                 0.3\n",
       "location_id_x                                  1\n",
       "PUborough                                  Bronx\n",
       "PUzone                   Allerton/Pelham Gardens\n",
       "PUservice_zone                          Airports\n",
       "ntacode_x                                   BK09\n",
       "location_id_y                                  1\n",
       "DOborough                                  Bronx\n",
       "DOzone                   Allerton/Pelham Gardens\n",
       "DOservice_zone                          Airports\n",
       "ntacode_y                                   BK09\n",
       "Pickup_dt                    2018-01-01 00:00:00\n",
       "Pickup_hour                                    0\n",
       "Pickup_day                                     1\n",
       "Dropoff_dt                   2018-01-01 00:01:00\n",
       "Dropoff_hour                                   0\n",
       "Dropoff_day                                    1\n",
       "income                                         0\n",
       "trip_time                              0.0166667\n",
       "speed                                 0.00365854\n",
       "tip_rate                                       0\n",
       "airport                                     from\n",
       "pm                                             0\n",
       "new_year                                       0\n",
       "trip_time_bucket                      (0.0, 1.0]\n",
       "dtype: object"
      ]
     },
     "execution_count": 21,
     "metadata": {},
     "output_type": "execute_result"
    }
   ],
   "source": [
    "#Check if there are negative values\n",
    "taxi_rides.min()"
   ]
  },
  {
   "cell_type": "code",
   "execution_count": 22,
   "metadata": {},
   "outputs": [],
   "source": [
    "#Drop the columns that don't seem interesting for the analysis\n",
    "taxi_rides = taxi_rides.drop(['tpep_pickup_datetime','tpep_dropoff_datetime',\n",
    "                 'location_id_x','location_id_y','ntacode_x','ntacode_y','Dropoff_dt','Pickup_dt','fare_amount',\n",
    "                              'extra','mta_tax','tolls_amount','improvement_surcharge'], axis=1)"
   ]
  },
  {
   "cell_type": "code",
   "execution_count": 23,
   "metadata": {},
   "outputs": [
    {
     "data": {
      "text/html": [
       "<div>\n",
       "<style scoped>\n",
       "    .dataframe tbody tr th:only-of-type {\n",
       "        vertical-align: middle;\n",
       "    }\n",
       "\n",
       "    .dataframe tbody tr th {\n",
       "        vertical-align: top;\n",
       "    }\n",
       "\n",
       "    .dataframe thead th {\n",
       "        text-align: right;\n",
       "    }\n",
       "</style>\n",
       "<table border=\"1\" class=\"dataframe\">\n",
       "  <thead>\n",
       "    <tr style=\"text-align: right;\">\n",
       "      <th></th>\n",
       "      <th>VendorID</th>\n",
       "      <th>passenger_count</th>\n",
       "      <th>trip_distance</th>\n",
       "      <th>RatecodeID</th>\n",
       "      <th>PULocationID</th>\n",
       "      <th>DOLocationID</th>\n",
       "      <th>payment_type</th>\n",
       "      <th>tip_amount</th>\n",
       "      <th>total_amount</th>\n",
       "      <th>PUborough</th>\n",
       "      <th>...</th>\n",
       "      <th>Dropoff_hour</th>\n",
       "      <th>Dropoff_day</th>\n",
       "      <th>income</th>\n",
       "      <th>trip_time</th>\n",
       "      <th>speed</th>\n",
       "      <th>tip_rate</th>\n",
       "      <th>airport</th>\n",
       "      <th>pm</th>\n",
       "      <th>new_year</th>\n",
       "      <th>trip_time_bucket</th>\n",
       "    </tr>\n",
       "  </thead>\n",
       "  <tbody>\n",
       "    <tr>\n",
       "      <th>0</th>\n",
       "      <td>1</td>\n",
       "      <td>1</td>\n",
       "      <td>0.50</td>\n",
       "      <td>1</td>\n",
       "      <td>41</td>\n",
       "      <td>24</td>\n",
       "      <td>2</td>\n",
       "      <td>0.00</td>\n",
       "      <td>5.80</td>\n",
       "      <td>Manhattan</td>\n",
       "      <td>...</td>\n",
       "      <td>0</td>\n",
       "      <td>1</td>\n",
       "      <td>5.00</td>\n",
       "      <td>0.050000</td>\n",
       "      <td>10.00</td>\n",
       "      <td>0.000000</td>\n",
       "      <td>none</td>\n",
       "      <td>0.0</td>\n",
       "      <td>1.0</td>\n",
       "      <td>(0.0, 1.0]</td>\n",
       "    </tr>\n",
       "    <tr>\n",
       "      <th>1</th>\n",
       "      <td>2</td>\n",
       "      <td>1</td>\n",
       "      <td>0.91</td>\n",
       "      <td>1</td>\n",
       "      <td>41</td>\n",
       "      <td>24</td>\n",
       "      <td>1</td>\n",
       "      <td>1.00</td>\n",
       "      <td>7.80</td>\n",
       "      <td>Manhattan</td>\n",
       "      <td>...</td>\n",
       "      <td>0</td>\n",
       "      <td>1</td>\n",
       "      <td>7.00</td>\n",
       "      <td>0.083333</td>\n",
       "      <td>10.92</td>\n",
       "      <td>0.147059</td>\n",
       "      <td>none</td>\n",
       "      <td>0.0</td>\n",
       "      <td>1.0</td>\n",
       "      <td>(0.0, 1.0]</td>\n",
       "    </tr>\n",
       "    <tr>\n",
       "      <th>2</th>\n",
       "      <td>1</td>\n",
       "      <td>1</td>\n",
       "      <td>0.70</td>\n",
       "      <td>1</td>\n",
       "      <td>41</td>\n",
       "      <td>24</td>\n",
       "      <td>2</td>\n",
       "      <td>0.00</td>\n",
       "      <td>6.30</td>\n",
       "      <td>Manhattan</td>\n",
       "      <td>...</td>\n",
       "      <td>1</td>\n",
       "      <td>1</td>\n",
       "      <td>5.50</td>\n",
       "      <td>0.083333</td>\n",
       "      <td>8.40</td>\n",
       "      <td>0.000000</td>\n",
       "      <td>none</td>\n",
       "      <td>0.0</td>\n",
       "      <td>1.0</td>\n",
       "      <td>(0.0, 1.0]</td>\n",
       "    </tr>\n",
       "    <tr>\n",
       "      <th>3</th>\n",
       "      <td>2</td>\n",
       "      <td>1</td>\n",
       "      <td>0.97</td>\n",
       "      <td>1</td>\n",
       "      <td>41</td>\n",
       "      <td>24</td>\n",
       "      <td>2</td>\n",
       "      <td>0.00</td>\n",
       "      <td>7.30</td>\n",
       "      <td>Manhattan</td>\n",
       "      <td>...</td>\n",
       "      <td>1</td>\n",
       "      <td>1</td>\n",
       "      <td>6.50</td>\n",
       "      <td>0.100000</td>\n",
       "      <td>9.70</td>\n",
       "      <td>0.000000</td>\n",
       "      <td>none</td>\n",
       "      <td>0.0</td>\n",
       "      <td>1.0</td>\n",
       "      <td>(0.0, 1.0]</td>\n",
       "    </tr>\n",
       "    <tr>\n",
       "      <th>4</th>\n",
       "      <td>2</td>\n",
       "      <td>3</td>\n",
       "      <td>0.97</td>\n",
       "      <td>1</td>\n",
       "      <td>41</td>\n",
       "      <td>24</td>\n",
       "      <td>1</td>\n",
       "      <td>2.19</td>\n",
       "      <td>9.49</td>\n",
       "      <td>Manhattan</td>\n",
       "      <td>...</td>\n",
       "      <td>1</td>\n",
       "      <td>1</td>\n",
       "      <td>8.69</td>\n",
       "      <td>0.083333</td>\n",
       "      <td>11.64</td>\n",
       "      <td>0.300000</td>\n",
       "      <td>none</td>\n",
       "      <td>0.0</td>\n",
       "      <td>1.0</td>\n",
       "      <td>(0.0, 1.0]</td>\n",
       "    </tr>\n",
       "  </tbody>\n",
       "</table>\n",
       "<p>5 rows × 27 columns</p>\n",
       "</div>"
      ],
      "text/plain": [
       "   VendorID  passenger_count  trip_distance  RatecodeID  PULocationID  \\\n",
       "0         1                1           0.50           1            41   \n",
       "1         2                1           0.91           1            41   \n",
       "2         1                1           0.70           1            41   \n",
       "3         2                1           0.97           1            41   \n",
       "4         2                3           0.97           1            41   \n",
       "\n",
       "   DOLocationID  payment_type  tip_amount  total_amount  PUborough  ...  \\\n",
       "0            24             2        0.00          5.80  Manhattan  ...   \n",
       "1            24             1        1.00          7.80  Manhattan  ...   \n",
       "2            24             2        0.00          6.30  Manhattan  ...   \n",
       "3            24             2        0.00          7.30  Manhattan  ...   \n",
       "4            24             1        2.19          9.49  Manhattan  ...   \n",
       "\n",
       "  Dropoff_hour Dropoff_day income trip_time  speed  tip_rate  airport   pm  \\\n",
       "0            0           1   5.00  0.050000  10.00  0.000000     none  0.0   \n",
       "1            0           1   7.00  0.083333  10.92  0.147059     none  0.0   \n",
       "2            1           1   5.50  0.083333   8.40  0.000000     none  0.0   \n",
       "3            1           1   6.50  0.100000   9.70  0.000000     none  0.0   \n",
       "4            1           1   8.69  0.083333  11.64  0.300000     none  0.0   \n",
       "\n",
       "   new_year  trip_time_bucket  \n",
       "0       1.0        (0.0, 1.0]  \n",
       "1       1.0        (0.0, 1.0]  \n",
       "2       1.0        (0.0, 1.0]  \n",
       "3       1.0        (0.0, 1.0]  \n",
       "4       1.0        (0.0, 1.0]  \n",
       "\n",
       "[5 rows x 27 columns]"
      ]
     },
     "execution_count": 23,
     "metadata": {},
     "output_type": "execute_result"
    }
   ],
   "source": [
    "taxi_rides.head()"
   ]
  },
  {
   "cell_type": "code",
   "execution_count": 24,
   "metadata": {},
   "outputs": [],
   "source": [
    "taxi_rides.to_csv(filepath + 'cleaned_taxi_rides.csv')"
   ]
  }
 ],
 "metadata": {
  "kernelspec": {
   "display_name": "Python 3",
   "language": "python",
   "name": "python3"
  },
  "language_info": {
   "codemirror_mode": {
    "name": "ipython",
    "version": 3
   },
   "file_extension": ".py",
   "mimetype": "text/x-python",
   "name": "python",
   "nbconvert_exporter": "python",
   "pygments_lexer": "ipython3",
   "version": "3.7.3"
  }
 },
 "nbformat": 4,
 "nbformat_minor": 2
}
